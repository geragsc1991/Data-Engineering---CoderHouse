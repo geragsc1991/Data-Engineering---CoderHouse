{
 "cells": [
  {
   "cell_type": "markdown",
   "metadata": {},
   "source": [
    "# Nasdaq Data Link\n",
    "### ETL"
   ]
  },
  {
   "cell_type": "code",
   "execution_count": 5,
   "metadata": {},
   "outputs": [
    {
     "name": "stdout",
     "output_type": "stream",
     "text": [
      "Collecting nasdaq-data-link\n",
      "  Downloading Nasdaq_Data_Link-1.0.4-py2.py3-none-any.whl (28 kB)\n",
      "Requirement already satisfied: pandas>=0.14 in c:\\users\\sanch\\miniconda3\\lib\\site-packages (from nasdaq-data-link) (1.5.3)\n",
      "Requirement already satisfied: numpy>=1.8 in c:\\users\\sanch\\miniconda3\\lib\\site-packages (from nasdaq-data-link) (1.23.4)\n",
      "Requirement already satisfied: requests>=2.7.0 in c:\\users\\sanch\\miniconda3\\lib\\site-packages (from nasdaq-data-link) (2.27.1)\n",
      "Collecting inflection>=0.3.1 (from nasdaq-data-link)\n",
      "  Downloading inflection-0.5.1-py2.py3-none-any.whl (9.5 kB)\n",
      "Requirement already satisfied: python-dateutil in c:\\users\\sanch\\miniconda3\\lib\\site-packages (from nasdaq-data-link) (2.8.2)\n",
      "Requirement already satisfied: six in c:\\users\\sanch\\miniconda3\\lib\\site-packages (from nasdaq-data-link) (1.16.0)\n",
      "Collecting more-itertools (from nasdaq-data-link)\n",
      "  Obtaining dependency information for more-itertools from https://files.pythonhosted.org/packages/5a/cb/6dce742ea14e47d6f565589e859ad225f2a5de576d7696e0623b784e226b/more_itertools-10.1.0-py3-none-any.whl.metadata\n",
      "  Downloading more_itertools-10.1.0-py3-none-any.whl.metadata (33 kB)\n",
      "Requirement already satisfied: pytz>=2020.1 in c:\\users\\sanch\\miniconda3\\lib\\site-packages (from pandas>=0.14->nasdaq-data-link) (2022.7)\n",
      "Requirement already satisfied: urllib3<1.27,>=1.21.1 in c:\\users\\sanch\\miniconda3\\lib\\site-packages (from requests>=2.7.0->nasdaq-data-link) (1.26.8)\n",
      "Requirement already satisfied: certifi>=2017.4.17 in c:\\users\\sanch\\miniconda3\\lib\\site-packages (from requests>=2.7.0->nasdaq-data-link) (2022.12.7)\n",
      "Requirement already satisfied: charset-normalizer~=2.0.0 in c:\\users\\sanch\\miniconda3\\lib\\site-packages (from requests>=2.7.0->nasdaq-data-link) (2.0.4)\n",
      "Requirement already satisfied: idna<4,>=2.5 in c:\\users\\sanch\\miniconda3\\lib\\site-packages (from requests>=2.7.0->nasdaq-data-link) (3.3)\n",
      "Downloading more_itertools-10.1.0-py3-none-any.whl (55 kB)\n",
      "   ---------------------------------------- 0.0/55.8 kB ? eta -:--:--\n",
      "   ---------------------------------------- 55.8/55.8 kB 3.0 MB/s eta 0:00:00\n",
      "Installing collected packages: more-itertools, inflection, nasdaq-data-link\n",
      "Successfully installed inflection-0.5.1 more-itertools-10.1.0 nasdaq-data-link-1.0.4\n"
     ]
    }
   ],
   "source": [
    "!pip install nasdaq-data-link\n"
   ]
  },
  {
   "cell_type": "code",
   "execution_count": 6,
   "metadata": {},
   "outputs": [],
   "source": [
    "import nasdaqdatalink"
   ]
  },
  {
   "cell_type": "code",
   "execution_count": 7,
   "metadata": {},
   "outputs": [],
   "source": [
    "nasdaqdatalink.read_key(filename=\"/data/.corporatenasdaqdatalinkapikey\")"
   ]
  },
  {
   "cell_type": "code",
   "execution_count": 8,
   "metadata": {},
   "outputs": [],
   "source": [
    "api_key='mRQex1rBvmMetNAHPyDG'"
   ]
  },
  {
   "cell_type": "code",
   "execution_count": 16,
   "metadata": {},
   "outputs": [],
   "source": [
    "data = nasdaqdatalink.get('NSE/OIL', start_date='2010-01-01', end_date='2014-01-01',\n",
    "                  collapse='monthly', transformation='rdiff')"
   ]
  },
  {
   "cell_type": "code",
   "execution_count": 17,
   "metadata": {},
   "outputs": [
    {
     "name": "stdout",
     "output_type": "stream",
     "text": [
      "<class 'pandas.core.frame.DataFrame'>\n",
      "DatetimeIndex: 48 entries, 2010-02-28 to 2014-01-31\n",
      "Data columns (total 7 columns):\n",
      " #   Column                Non-Null Count  Dtype  \n",
      "---  ------                --------------  -----  \n",
      " 0   Open                  48 non-null     float64\n",
      " 1   High                  48 non-null     float64\n",
      " 2   Low                   48 non-null     float64\n",
      " 3   Last                  48 non-null     float64\n",
      " 4   Close                 48 non-null     float64\n",
      " 5   Total Trade Quantity  48 non-null     float64\n",
      " 6   Turnover (Lacs)       48 non-null     float64\n",
      "dtypes: float64(7)\n",
      "memory usage: 3.0 KB\n"
     ]
    }
   ],
   "source": [
    "data.info()"
   ]
  }
 ],
 "metadata": {
  "kernelspec": {
   "display_name": "base",
   "language": "python",
   "name": "python3"
  },
  "language_info": {
   "codemirror_mode": {
    "name": "ipython",
    "version": 3
   },
   "file_extension": ".py",
   "mimetype": "text/x-python",
   "name": "python",
   "nbconvert_exporter": "python",
   "pygments_lexer": "ipython3",
   "version": "3.9.12"
  },
  "orig_nbformat": 4
 },
 "nbformat": 4,
 "nbformat_minor": 2
}
