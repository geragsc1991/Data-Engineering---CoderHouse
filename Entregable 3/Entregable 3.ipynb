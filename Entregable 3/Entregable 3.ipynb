{
 "cells": [
  {
   "cell_type": "markdown",
   "metadata": {},
   "source": [
    "# Nasdaq Data Link\n",
    "## ETL"
   ]
  },
  {
   "cell_type": "code",
   "execution_count": 9,
   "metadata": {},
   "outputs": [],
   "source": [
    "#Importar librerías\n",
    "import numpy as np;\n",
    "import pandas as pd;"
   ]
  },
  {
   "cell_type": "code",
   "execution_count": 10,
   "metadata": {},
   "outputs": [
    {
     "name": "stdout",
     "output_type": "stream",
     "text": [
      "Requirement already satisfied: nasdaq-data-link in c:\\users\\sanch\\miniconda3\\lib\\site-packages (1.0.4)\n",
      "Requirement already satisfied: pandas>=0.14 in c:\\users\\sanch\\miniconda3\\lib\\site-packages (from nasdaq-data-link) (1.5.3)\n",
      "Requirement already satisfied: numpy>=1.8 in c:\\users\\sanch\\miniconda3\\lib\\site-packages (from nasdaq-data-link) (1.23.4)\n",
      "Requirement already satisfied: requests>=2.7.0 in c:\\users\\sanch\\miniconda3\\lib\\site-packages (from nasdaq-data-link) (2.27.1)\n",
      "Requirement already satisfied: inflection>=0.3.1 in c:\\users\\sanch\\miniconda3\\lib\\site-packages (from nasdaq-data-link) (0.5.1)\n",
      "Requirement already satisfied: python-dateutil in c:\\users\\sanch\\miniconda3\\lib\\site-packages (from nasdaq-data-link) (2.8.2)\n",
      "Requirement already satisfied: six in c:\\users\\sanch\\miniconda3\\lib\\site-packages (from nasdaq-data-link) (1.16.0)\n",
      "Requirement already satisfied: more-itertools in c:\\users\\sanch\\miniconda3\\lib\\site-packages (from nasdaq-data-link) (10.1.0)\n",
      "Requirement already satisfied: pytz>=2020.1 in c:\\users\\sanch\\miniconda3\\lib\\site-packages (from pandas>=0.14->nasdaq-data-link) (2022.7)\n",
      "Requirement already satisfied: urllib3<1.27,>=1.21.1 in c:\\users\\sanch\\miniconda3\\lib\\site-packages (from requests>=2.7.0->nasdaq-data-link) (1.26.8)\n",
      "Requirement already satisfied: certifi>=2017.4.17 in c:\\users\\sanch\\miniconda3\\lib\\site-packages (from requests>=2.7.0->nasdaq-data-link) (2022.12.7)\n",
      "Requirement already satisfied: charset-normalizer~=2.0.0 in c:\\users\\sanch\\miniconda3\\lib\\site-packages (from requests>=2.7.0->nasdaq-data-link) (2.0.4)\n",
      "Requirement already satisfied: idna<4,>=2.5 in c:\\users\\sanch\\miniconda3\\lib\\site-packages (from requests>=2.7.0->nasdaq-data-link) (3.3)\n"
     ]
    },
    {
     "name": "stderr",
     "output_type": "stream",
     "text": [
      "\n",
      "[notice] A new release of pip is available: 23.2.1 -> 23.3.1\n",
      "[notice] To update, run: python.exe -m pip install --upgrade pip\n"
     ]
    }
   ],
   "source": [
    "!pip install nasdaq-data-link\n"
   ]
  },
  {
   "cell_type": "code",
   "execution_count": 11,
   "metadata": {},
   "outputs": [],
   "source": [
    "import nasdaqdatalink"
   ]
  },
  {
   "cell_type": "code",
   "execution_count": 12,
   "metadata": {},
   "outputs": [],
   "source": [
    "nasdaqdatalink.read_key(filename=\"/data/.corporatenasdaqdatalinkapikey\")"
   ]
  },
  {
   "cell_type": "markdown",
   "metadata": {},
   "source": [
    "#### Extracción de datos históricos de Apple en NASDAQ 📈"
   ]
  },
  {
   "cell_type": "code",
   "execution_count": 13,
   "metadata": {},
   "outputs": [],
   "source": [
    "AAPL = nasdaqdatalink.get('WIKI/AAPL', start_date='2010-01-01', end_date='2023-01-01',\n",
    "                  collapse='daily')"
   ]
  },
  {
   "cell_type": "code",
   "execution_count": 14,
   "metadata": {},
   "outputs": [
    {
     "data": {
      "text/html": [
       "<div>\n",
       "<style scoped>\n",
       "    .dataframe tbody tr th:only-of-type {\n",
       "        vertical-align: middle;\n",
       "    }\n",
       "\n",
       "    .dataframe tbody tr th {\n",
       "        vertical-align: top;\n",
       "    }\n",
       "\n",
       "    .dataframe thead th {\n",
       "        text-align: right;\n",
       "    }\n",
       "</style>\n",
       "<table border=\"1\" class=\"dataframe\">\n",
       "  <thead>\n",
       "    <tr style=\"text-align: right;\">\n",
       "      <th></th>\n",
       "      <th>Open</th>\n",
       "      <th>High</th>\n",
       "      <th>Low</th>\n",
       "      <th>Close</th>\n",
       "      <th>Volume</th>\n",
       "      <th>Ex-Dividend</th>\n",
       "      <th>Split Ratio</th>\n",
       "      <th>Adj. Open</th>\n",
       "      <th>Adj. High</th>\n",
       "      <th>Adj. Low</th>\n",
       "      <th>Adj. Close</th>\n",
       "      <th>Adj. Volume</th>\n",
       "    </tr>\n",
       "    <tr>\n",
       "      <th>Date</th>\n",
       "      <th></th>\n",
       "      <th></th>\n",
       "      <th></th>\n",
       "      <th></th>\n",
       "      <th></th>\n",
       "      <th></th>\n",
       "      <th></th>\n",
       "      <th></th>\n",
       "      <th></th>\n",
       "      <th></th>\n",
       "      <th></th>\n",
       "      <th></th>\n",
       "    </tr>\n",
       "  </thead>\n",
       "  <tbody>\n",
       "    <tr>\n",
       "      <th>2010-01-04</th>\n",
       "      <td>213.43</td>\n",
       "      <td>214.50</td>\n",
       "      <td>212.38</td>\n",
       "      <td>214.010</td>\n",
       "      <td>17633200.0</td>\n",
       "      <td>0.0</td>\n",
       "      <td>1.0</td>\n",
       "      <td>27.428730</td>\n",
       "      <td>27.566240</td>\n",
       "      <td>27.293790</td>\n",
       "      <td>27.503268</td>\n",
       "      <td>123432400.0</td>\n",
       "    </tr>\n",
       "    <tr>\n",
       "      <th>2010-01-05</th>\n",
       "      <td>214.60</td>\n",
       "      <td>215.59</td>\n",
       "      <td>213.25</td>\n",
       "      <td>214.380</td>\n",
       "      <td>21496600.0</td>\n",
       "      <td>0.0</td>\n",
       "      <td>1.0</td>\n",
       "      <td>27.579091</td>\n",
       "      <td>27.706320</td>\n",
       "      <td>27.405597</td>\n",
       "      <td>27.550818</td>\n",
       "      <td>150476200.0</td>\n",
       "    </tr>\n",
       "    <tr>\n",
       "      <th>2010-01-06</th>\n",
       "      <td>214.38</td>\n",
       "      <td>215.23</td>\n",
       "      <td>210.75</td>\n",
       "      <td>210.970</td>\n",
       "      <td>19720000.0</td>\n",
       "      <td>0.0</td>\n",
       "      <td>1.0</td>\n",
       "      <td>27.550818</td>\n",
       "      <td>27.660055</td>\n",
       "      <td>27.084312</td>\n",
       "      <td>27.112585</td>\n",
       "      <td>138040000.0</td>\n",
       "    </tr>\n",
       "    <tr>\n",
       "      <th>2010-01-07</th>\n",
       "      <td>211.75</td>\n",
       "      <td>212.00</td>\n",
       "      <td>209.05</td>\n",
       "      <td>210.580</td>\n",
       "      <td>17040400.0</td>\n",
       "      <td>0.0</td>\n",
       "      <td>1.0</td>\n",
       "      <td>27.212826</td>\n",
       "      <td>27.244955</td>\n",
       "      <td>26.865839</td>\n",
       "      <td>27.062465</td>\n",
       "      <td>119282800.0</td>\n",
       "    </tr>\n",
       "    <tr>\n",
       "      <th>2010-01-08</th>\n",
       "      <td>210.30</td>\n",
       "      <td>212.00</td>\n",
       "      <td>209.06</td>\n",
       "      <td>211.980</td>\n",
       "      <td>15986100.0</td>\n",
       "      <td>0.0</td>\n",
       "      <td>1.0</td>\n",
       "      <td>27.026481</td>\n",
       "      <td>27.244955</td>\n",
       "      <td>26.867124</td>\n",
       "      <td>27.242385</td>\n",
       "      <td>111902700.0</td>\n",
       "    </tr>\n",
       "    <tr>\n",
       "      <th>...</th>\n",
       "      <td>...</td>\n",
       "      <td>...</td>\n",
       "      <td>...</td>\n",
       "      <td>...</td>\n",
       "      <td>...</td>\n",
       "      <td>...</td>\n",
       "      <td>...</td>\n",
       "      <td>...</td>\n",
       "      <td>...</td>\n",
       "      <td>...</td>\n",
       "      <td>...</td>\n",
       "      <td>...</td>\n",
       "    </tr>\n",
       "    <tr>\n",
       "      <th>2018-03-21</th>\n",
       "      <td>175.04</td>\n",
       "      <td>175.09</td>\n",
       "      <td>171.26</td>\n",
       "      <td>171.270</td>\n",
       "      <td>35247358.0</td>\n",
       "      <td>0.0</td>\n",
       "      <td>1.0</td>\n",
       "      <td>175.040000</td>\n",
       "      <td>175.090000</td>\n",
       "      <td>171.260000</td>\n",
       "      <td>171.270000</td>\n",
       "      <td>35247358.0</td>\n",
       "    </tr>\n",
       "    <tr>\n",
       "      <th>2018-03-22</th>\n",
       "      <td>170.00</td>\n",
       "      <td>172.68</td>\n",
       "      <td>168.60</td>\n",
       "      <td>168.845</td>\n",
       "      <td>41051076.0</td>\n",
       "      <td>0.0</td>\n",
       "      <td>1.0</td>\n",
       "      <td>170.000000</td>\n",
       "      <td>172.680000</td>\n",
       "      <td>168.600000</td>\n",
       "      <td>168.845000</td>\n",
       "      <td>41051076.0</td>\n",
       "    </tr>\n",
       "    <tr>\n",
       "      <th>2018-03-23</th>\n",
       "      <td>168.39</td>\n",
       "      <td>169.92</td>\n",
       "      <td>164.94</td>\n",
       "      <td>164.940</td>\n",
       "      <td>40248954.0</td>\n",
       "      <td>0.0</td>\n",
       "      <td>1.0</td>\n",
       "      <td>168.390000</td>\n",
       "      <td>169.920000</td>\n",
       "      <td>164.940000</td>\n",
       "      <td>164.940000</td>\n",
       "      <td>40248954.0</td>\n",
       "    </tr>\n",
       "    <tr>\n",
       "      <th>2018-03-26</th>\n",
       "      <td>168.07</td>\n",
       "      <td>173.10</td>\n",
       "      <td>166.44</td>\n",
       "      <td>172.770</td>\n",
       "      <td>36272617.0</td>\n",
       "      <td>0.0</td>\n",
       "      <td>1.0</td>\n",
       "      <td>168.070000</td>\n",
       "      <td>173.100000</td>\n",
       "      <td>166.440000</td>\n",
       "      <td>172.770000</td>\n",
       "      <td>36272617.0</td>\n",
       "    </tr>\n",
       "    <tr>\n",
       "      <th>2018-03-27</th>\n",
       "      <td>173.68</td>\n",
       "      <td>175.15</td>\n",
       "      <td>166.92</td>\n",
       "      <td>168.340</td>\n",
       "      <td>38962839.0</td>\n",
       "      <td>0.0</td>\n",
       "      <td>1.0</td>\n",
       "      <td>173.680000</td>\n",
       "      <td>175.150000</td>\n",
       "      <td>166.920000</td>\n",
       "      <td>168.340000</td>\n",
       "      <td>38962839.0</td>\n",
       "    </tr>\n",
       "  </tbody>\n",
       "</table>\n",
       "<p>2070 rows × 12 columns</p>\n",
       "</div>"
      ],
      "text/plain": [
       "              Open    High     Low    Close      Volume  Ex-Dividend  \\\n",
       "Date                                                                   \n",
       "2010-01-04  213.43  214.50  212.38  214.010  17633200.0          0.0   \n",
       "2010-01-05  214.60  215.59  213.25  214.380  21496600.0          0.0   \n",
       "2010-01-06  214.38  215.23  210.75  210.970  19720000.0          0.0   \n",
       "2010-01-07  211.75  212.00  209.05  210.580  17040400.0          0.0   \n",
       "2010-01-08  210.30  212.00  209.06  211.980  15986100.0          0.0   \n",
       "...            ...     ...     ...      ...         ...          ...   \n",
       "2018-03-21  175.04  175.09  171.26  171.270  35247358.0          0.0   \n",
       "2018-03-22  170.00  172.68  168.60  168.845  41051076.0          0.0   \n",
       "2018-03-23  168.39  169.92  164.94  164.940  40248954.0          0.0   \n",
       "2018-03-26  168.07  173.10  166.44  172.770  36272617.0          0.0   \n",
       "2018-03-27  173.68  175.15  166.92  168.340  38962839.0          0.0   \n",
       "\n",
       "            Split Ratio   Adj. Open   Adj. High    Adj. Low  Adj. Close  \\\n",
       "Date                                                                      \n",
       "2010-01-04          1.0   27.428730   27.566240   27.293790   27.503268   \n",
       "2010-01-05          1.0   27.579091   27.706320   27.405597   27.550818   \n",
       "2010-01-06          1.0   27.550818   27.660055   27.084312   27.112585   \n",
       "2010-01-07          1.0   27.212826   27.244955   26.865839   27.062465   \n",
       "2010-01-08          1.0   27.026481   27.244955   26.867124   27.242385   \n",
       "...                 ...         ...         ...         ...         ...   \n",
       "2018-03-21          1.0  175.040000  175.090000  171.260000  171.270000   \n",
       "2018-03-22          1.0  170.000000  172.680000  168.600000  168.845000   \n",
       "2018-03-23          1.0  168.390000  169.920000  164.940000  164.940000   \n",
       "2018-03-26          1.0  168.070000  173.100000  166.440000  172.770000   \n",
       "2018-03-27          1.0  173.680000  175.150000  166.920000  168.340000   \n",
       "\n",
       "            Adj. Volume  \n",
       "Date                     \n",
       "2010-01-04  123432400.0  \n",
       "2010-01-05  150476200.0  \n",
       "2010-01-06  138040000.0  \n",
       "2010-01-07  119282800.0  \n",
       "2010-01-08  111902700.0  \n",
       "...                 ...  \n",
       "2018-03-21   35247358.0  \n",
       "2018-03-22   41051076.0  \n",
       "2018-03-23   40248954.0  \n",
       "2018-03-26   36272617.0  \n",
       "2018-03-27   38962839.0  \n",
       "\n",
       "[2070 rows x 12 columns]"
      ]
     },
     "execution_count": 14,
     "metadata": {},
     "output_type": "execute_result"
    }
   ],
   "source": [
    "AAPL"
   ]
  },
  {
   "cell_type": "code",
   "execution_count": 15,
   "metadata": {},
   "outputs": [
    {
     "name": "stdout",
     "output_type": "stream",
     "text": [
      "<class 'pandas.core.frame.DataFrame'>\n",
      "DatetimeIndex: 2070 entries, 2010-01-04 to 2018-03-27\n",
      "Data columns (total 12 columns):\n",
      " #   Column       Non-Null Count  Dtype  \n",
      "---  ------       --------------  -----  \n",
      " 0   Open         2070 non-null   float64\n",
      " 1   High         2070 non-null   float64\n",
      " 2   Low          2070 non-null   float64\n",
      " 3   Close        2070 non-null   float64\n",
      " 4   Volume       2070 non-null   float64\n",
      " 5   Ex-Dividend  2070 non-null   float64\n",
      " 6   Split Ratio  2070 non-null   float64\n",
      " 7   Adj. Open    2070 non-null   float64\n",
      " 8   Adj. High    2070 non-null   float64\n",
      " 9   Adj. Low     2070 non-null   float64\n",
      " 10  Adj. Close   2070 non-null   float64\n",
      " 11  Adj. Volume  2070 non-null   float64\n",
      "dtypes: float64(12)\n",
      "memory usage: 210.2 KB\n"
     ]
    }
   ],
   "source": [
    "AAPL.info()"
   ]
  },
  {
   "cell_type": "code",
   "execution_count": 18,
   "metadata": {},
   "outputs": [
    {
     "data": {
      "text/plain": [
       "Index(['Open', 'High', 'Low', 'Close', 'Volume', 'Ex-Dividend', 'Split Ratio',\n",
       "       'Adj. Open', 'Adj. High', 'Adj. Low', 'Adj. Close', 'Adj. Volume'],\n",
       "      dtype='object')"
      ]
     },
     "execution_count": 18,
     "metadata": {},
     "output_type": "execute_result"
    }
   ],
   "source": [
    "AAPL.columns"
   ]
  },
  {
   "cell_type": "markdown",
   "metadata": {},
   "source": [
    "#### Descarga de Tabla en formato CSV 🔽"
   ]
  },
  {
   "cell_type": "code",
   "execution_count": 19,
   "metadata": {},
   "outputs": [],
   "source": [
    "AAPL.to_csv('AAPL.csv')"
   ]
  },
  {
   "cell_type": "markdown",
   "metadata": {},
   "source": [
    "### Conexión de Redshift y carga de tabla"
   ]
  },
  {
   "cell_type": "code",
   "execution_count": 20,
   "metadata": {},
   "outputs": [
    {
     "name": "stdout",
     "output_type": "stream",
     "text": [
      "Requirement already satisfied: psycopg2 in c:\\users\\sanch\\miniconda3\\lib\\site-packages (2.9.9)\n"
     ]
    },
    {
     "name": "stderr",
     "output_type": "stream",
     "text": [
      "\n",
      "[notice] A new release of pip is available: 23.2.1 -> 23.3.1\n",
      "[notice] To update, run: python.exe -m pip install --upgrade pip\n"
     ]
    }
   ],
   "source": [
    "!pip install psycopg2"
   ]
  },
  {
   "cell_type": "code",
   "execution_count": 21,
   "metadata": {},
   "outputs": [],
   "source": [
    "import psycopg2"
   ]
  },
  {
   "cell_type": "code",
   "execution_count": 22,
   "metadata": {},
   "outputs": [
    {
     "name": "stdout",
     "output_type": "stream",
     "text": [
      "Connected to Redshift successfully!\n"
     ]
    }
   ],
   "source": [
    "\n",
    "url=\"data-engineer-cluster.cyhh5bfevlmn.us-east-1.redshift.amazonaws.com\"\n",
    "data_base=\"data-engineer-database\"\n",
    "user=\"gerasanchezcorzo_coderhouse\"\n",
    "with open(\"C:/Users/sanch/Downloads/Data engeniering/pwd.txt\", \"r\") as f:\n",
    "    pwd=f.read()\n",
    "\n",
    "try:\n",
    "    conn = psycopg2.connect(\n",
    "        host='data-engineer-cluster.cyhh5bfevlmn.us-east-1.redshift.amazonaws.com',\n",
    "        dbname=data_base,\n",
    "        user=user,\n",
    "        password=pwd,\n",
    "        port='5439'\n",
    "    )\n",
    "    print(\"Connected to Redshift successfully!\")\n",
    "    \n",
    "except Exception as e:\n",
    "    print(\"Unable to connect to Redshift.\")\n",
    "    print(e)"
   ]
  },
  {
   "cell_type": "code",
   "execution_count": 25,
   "metadata": {},
   "outputs": [
    {
     "ename": "InFailedSqlTransaction",
     "evalue": "current transaction is aborted, commands ignored until end of transaction block\n",
     "output_type": "error",
     "traceback": [
      "\u001b[1;31m---------------------------------------------------------------------------\u001b[0m",
      "\u001b[1;31mInFailedSqlTransaction\u001b[0m                    Traceback (most recent call last)",
      "\u001b[1;32mc:\\Users\\sanch\\OneDrive\\Documentos\\GitHub\\Data-Engineering---CoderHouse\\Entregable 2\\Entregable 2.ipynb Cell 17\u001b[0m line \u001b[0;36m1\n\u001b[0;32m      <a href='vscode-notebook-cell:/c%3A/Users/sanch/OneDrive/Documentos/GitHub/Data-Engineering---CoderHouse/Entregable%202/Entregable%202.ipynb#X22sZmlsZQ%3D%3D?line=8'>9</a>\u001b[0m insert_sql \u001b[39m=\u001b[39m \u001b[39mf\u001b[39m\u001b[39m\"\u001b[39m\u001b[39mINSERT INTO \u001b[39m\u001b[39m{\u001b[39;00mtable_name\u001b[39m}\u001b[39;00m\u001b[39m (\u001b[39m\u001b[39m{\u001b[39;00m\u001b[39m'\u001b[39m\u001b[39m, \u001b[39m\u001b[39m'\u001b[39m\u001b[39m.\u001b[39mjoin(columns)\u001b[39m}\u001b[39;00m\u001b[39m) VALUES %s\u001b[39m\u001b[39m\"\u001b[39m\n\u001b[0;32m     <a href='vscode-notebook-cell:/c%3A/Users/sanch/OneDrive/Documentos/GitHub/Data-Engineering---CoderHouse/Entregable%202/Entregable%202.ipynb#X22sZmlsZQ%3D%3D?line=9'>10</a>\u001b[0m \u001b[39m# Execute the INSERT statement using execute_values\u001b[39;00m\n\u001b[1;32m---> <a href='vscode-notebook-cell:/c%3A/Users/sanch/OneDrive/Documentos/GitHub/Data-Engineering---CoderHouse/Entregable%202/Entregable%202.ipynb#X22sZmlsZQ%3D%3D?line=10'>11</a>\u001b[0m cur\u001b[39m.\u001b[39;49mexecute(\u001b[39m\"\u001b[39;49m\u001b[39mBEGIN\u001b[39;49m\u001b[39m\"\u001b[39;49m)\n\u001b[0;32m     <a href='vscode-notebook-cell:/c%3A/Users/sanch/OneDrive/Documentos/GitHub/Data-Engineering---CoderHouse/Entregable%202/Entregable%202.ipynb#X22sZmlsZQ%3D%3D?line=11'>12</a>\u001b[0m execute_values(cur, insert_sql, values)\n\u001b[0;32m     <a href='vscode-notebook-cell:/c%3A/Users/sanch/OneDrive/Documentos/GitHub/Data-Engineering---CoderHouse/Entregable%202/Entregable%202.ipynb#X22sZmlsZQ%3D%3D?line=12'>13</a>\u001b[0m cur\u001b[39m.\u001b[39mexecute(\u001b[39m\"\u001b[39m\u001b[39mCOMMIT\u001b[39m\u001b[39m\"\u001b[39m)\n",
      "\u001b[1;31mInFailedSqlTransaction\u001b[0m: current transaction is aborted, commands ignored until end of transaction block\n"
     ]
    }
   ],
   "source": [
    "from psycopg2.extras import execute_values\n",
    "cur = conn.cursor()\n",
    "# Define the table name\n",
    "table_name = 'aapl'\n",
    "# Define the columns you want to insert data into\n",
    "columns = ['Open', 'High', 'Low', 'Close', 'Volume', 'Ex-Dividend', 'Split Ratio', 'Adj. Open', 'Adj. High', 'Adj. Low', 'Adj. Close', 'Adj. Volume']\n",
    "# Generate \n",
    "values = [tuple(x) for x in AAPL.to_numpy()]\n",
    "insert_sql = f\"INSERT INTO {table_name} ({', '.join(columns)}) VALUES %s\"\n",
    "# Execute the INSERT statement using execute_values\n",
    "cur.execute(\"BEGIN\")\n",
    "execute_values(cur, insert_sql, values)\n",
    "cur.execute(\"COMMIT\")"
   ]
  },
  {
   "cell_type": "code",
   "execution_count": null,
   "metadata": {},
   "outputs": [],
   "source": [
    "insert_sql"
   ]
  },
  {
   "cell_type": "code",
   "execution_count": null,
   "metadata": {},
   "outputs": [],
   "source": [
    "conn.close()"
   ]
  }
 ],
 "metadata": {
  "kernelspec": {
   "display_name": "base",
   "language": "python",
   "name": "python3"
  },
  "language_info": {
   "codemirror_mode": {
    "name": "ipython",
    "version": 3
   },
   "file_extension": ".py",
   "mimetype": "text/x-python",
   "name": "python",
   "nbconvert_exporter": "python",
   "pygments_lexer": "ipython3",
   "version": "3.9.12"
  },
  "orig_nbformat": 4
 },
 "nbformat": 4,
 "nbformat_minor": 2
}
